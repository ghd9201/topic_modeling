{
 "cells": [
  {
   "cell_type": "code",
   "execution_count": 19,
   "metadata": {},
   "outputs": [],
   "source": [
    "from pdfminer.pdfinterp import PDFResourceManager, PDFPageInterpreter\n",
    "from pdfminer.converter import TextConverter\n",
    "from pdfminer.layout import LAParams\n",
    "from pdfminer.pdfpage import PDFPage\n",
    "from io import StringIO\n",
    "from ckonlpy.tag import Twitter\n",
    "from konlpy.tag import Okt\n",
    "import pandas as pd\n",
    "\n",
    "import nltk\n",
    "import os\n",
    "import re\n"
   ]
  },
  {
   "cell_type": "code",
   "execution_count": 31,
   "metadata": {},
   "outputs": [],
   "source": [
    "twitter = Twitter()\n",
    "okt = Okt()"
   ]
  },
  {
   "cell_type": "code",
   "execution_count": 32,
   "metadata": {},
   "outputs": [],
   "source": [
    "def tokenize_doc(tokenized):\n",
    "    \n",
    "    for i in range(1,5):\n",
    "        name = str(i)+'.txt'\n",
    "        data_cleansing_file = open(name,'r',-1,'utf-8')           # -1 은 버퍼 / utf-8 추가 or 파일 인코딩 ANSI 변경으로 인코딩 문제 해결 가능\n",
    "        data = data_cleansing_file.readlines()\n",
    "\n",
    "        data_word = []\n",
    "        \n",
    "        for j in range(len(data)):\n",
    "            try:\n",
    "                data_word.append(okt.nouns(data[j]))\n",
    "\n",
    "            except Exception as e:\n",
    "                continue\n",
    "\n",
    "        data_cleansing_file.close()\n",
    "        tokenized_doc.append(data_word)"
   ]
  },
  {
   "cell_type": "code",
   "execution_count": 33,
   "metadata": {},
   "outputs": [],
   "source": [
    "tokenized_doc = []\n",
    "\n",
    "tokenize_doc(tokenized_doc)"
   ]
  },
  {
   "cell_type": "code",
   "execution_count": 35,
   "metadata": {},
   "outputs": [
    {
     "name": "stdout",
     "output_type": "stream",
     "text": [
      "[[['법원', '배터리', '자료', '내야', '이번', '기술', '유출', '대립'], ['전기차', '배터리', '영업비밀', '유출', '여부', '송전', '돌입', '화학', '과', '이노베이션', '이', '이번', '소송', '기술', '유출', '가능성', '대립', '이노베이션', '배터리', '핵심', '기술', '자료', '로펌', '미국', '법원', '제출', '경쟁', '국', '유출', '수', '고', '주장', '화학', '외부', '유출', '가능성', '전혀', '고', '두', '회사', '소송', '위해', '관련', '기술', '자료', '해외', '정부', '승인', '정부', '승인', '지도', '주목'], [], ['화학', '지난달', '미국', '국제무역', '위원회', '델라웨어', '지방법원', '이노베이션', '명의', '핵심', '인력', '등', '영업', '비밀', '침해', '며', '소송', '이노베이션', '공개', '채용', '통해', '자발', '지원', '경력', '직', '후보자', '중', '채용', '며', '반박'], [], ['전기차', '배터리', '소송', '위해', '화학', '세계', '최대', '규모', '로펌', '덴톤스', '선임', '이노베이션', '미국', '대형', '로펌', '코빙턴', '앤드', '벌링', '법률', '대리인', '선임'], [], ['배터리', '기술', '입증', '위해', '해외', '정부', '승인'], [], ['문제', '소송', '진행', '화학', '이노베이션', '정부', '검토', '영업비밀', '관련', '자료', '로펌', '법원', '제출', '점', '현재', '화학', '정부', '승인', '위', '절차', '상황'], [], ['산업', '통상', '자원부', '관계자', '이노베이션', '화학', '전기차', '배터리', '기술', '국가', '핵심', '기술', '지정', '보호', '관련', '정보', '기술', '를', '등', '제출', '수출', '정부', '검토', '며', '신청', '정부', '부처', '구성', '산업', '기술', '보호', '위원회', '국익', '고려', '심사', '고', '말'], [], ['기술', '개발', '과정', '회사', '정부', '보조금', '지급', '기술', '수출', '신청서', '제출', '국가', '승인', '보조금', '경우', '수출', '신고', '과정', '산업부', '검토', '단', '국가', '핵심', '기술', '해당', '기술', '신고', '수출', '것'], [], ['최근', '산업', '통상', '자원부', '국가정보원', '특허청', '이노베이션', '화학', '소송', '관련', '산업', '기술', '유출', '방지', '및', '보호', '법', '등', '기술', '유출', '가능', '여부', '심의', '위해', '회의', '열기', '각', '사가', '기술', '수출', '대한', '신고', '및', '승인', '구', '전', '상황', '파악', '것'], [], ['화학', '유출', '가능성', '이노', '기술', '유출', '위험'], [], ['화학', '소송', '과정', '사의', '영업비밀', '유출', '가능성', '전혀', '입장'], [], ['화학', '제출', '자료', '모두', '영업비밀', '정보', '로', '제출', '계획', '법원', '비밀', '보호', '명령', '관리', '정보', '외부', '유출', '위험성', '전혀', '며', '한국', '기업', '포함', '전세계', '유수', '기업', '미국', '소송', '진행', '증거', '자료', '주요', '기술', '외부', '유출', '사례', '점', '뒷받침', '고'], [], ['증거개시', '절차', '과정', '영업비밀', '관련', '자료', '경우', '법원', '비밀', '보호', '명령', '통해', '상대방', '당사자', '제', '자', '열람', '공개', '금지', '해당', '법원', '소송', '대리인', '접근', '인원', '로그', '기록', '관리', '등', '법', '허가', '자', '소송', '목적', '한해', '만', '열람', '한정', '보호', '조치', '설명', '법원', '비밀', '보호', '명령', '위반', '경우', '위반', '내용', '중범죄', '해당', '형사', '처벌', '수', '영업비밀', '보호', '법', '위반', '별도', '처벌'], [], ['이노베이션', '화학', '주장', '인재', '유출', '기술', '탈취', '국법', '일이', '미국법'], [], ['소송', '제기', '것', '기술', '유출', '우려', '일', '라며', '국제', '망신', '수', '고'], [], ['화학', '한국', '미국', '소송', '진행', '이유', '중', '하나', '미국', '연방', '지방법원', '소송', '과정', '증거개시', '절차', '를', '증거', '은폐', '위반', '시', '소송', '결과', '영향', '제재', '때문']], [['국가', '핵심', '기술', '배터리', '보안', '가이드라인', '완성', '손'], ['화학', '이노베이션', '국가', '핵심', '기술', '지정', '배터리', '기술', '대한', '보안', '가이드라인', '마련', '손', '두', '업체', '배터리', '특허', '기술', '국내외', '소송', '진행', '중', '이번', '협력', '계기', '갈등', '봉합', '양상', '업계', '관심'], [], ['한국', '산업', '협회', '지난', '협회', '회의실', '제', '차', '이차전지', '산업', '기술', '보안', '협의', '회', '를', '통해', '이차전지', '산업', '기술', '보안', '가이드라인', '제작', '배포'], [], ['지난', '화학', '재익', '담당', '위원장', '이노베이션', '삼성', '등', '전지', '비롯', '전지', '협회', '임원', '사', '기술', '보안', '민간', '구성'], [], ['보안', '실무', '자', '구성', '실무', '위원회', '기술', '보안', '이슈', '도출', '기술', '보안', '가이드라인', '제작', '의결', '개월', '간의', '활동', '통해', '해외', '합작', '법인', '설립', '시', '기술', '보안', '대책', '마련', '퍼블릭', '클라우드', '도입', '시', '보안', '대책', '마련', '두', '가지', '주제', '도출'], [], ['기술', '국가정보원', '산업', '기밀', '보호', '센터', '산업', '통상', '자원부', '로부터', '국가', '핵심', '기술', '지정', '국가', '보호'], [], ['세부', '산업', '통상', '자원부', '제', '호', '전기자동차', '용', '등', '중대', '에너지', '밀도', '파우치', '이상', '각형', '파우치', '리튬', '이차전지', '설계', '공정', '제조', '및', '평가', '기술', '리튬', '이차전지', '니켈', '함량', '초과', '양극', '소재', '설계', '제조', '및', '공정', '기술'], [], ['가이드라인', '첫', '주제', '해외', '합작', '법인', '설립', '시', '기술', '보안', '중국', '등', '해외', '완성', '차', '업체', '곳', '합작', '법인', '설립', '활동', '이차전지', '업계', '우리', '기술', '해외', '유출', '보호', '수', '내용', '마련'], [], ['합작', '법인', '설립', '시', '계약', '단계', '구축', '과정', '운영', '사업', '종료', '단계', '설립', '과정', '검토', '보안', '사항', '대해', '소개', '보안', '핵심', '요소', '반영', '보안', '관리', '규정', '전문', '예시', '첨부', '향후', '합작', '법인', '설립', '시', '활용', '수'], [], ['두', '주제', '퍼블릭', '클라우드', '보안', '최근', '시스템', '구축', '민첩성', '인공', '지능', '등', '기술', '활용', '위해', '도입', '증가', '퍼블릭', '클라우드', '대한', '보안', '위험성', '지적', '클라우드', '도입', '시', '검토', '보안', '사항', '내용', '마련'], [], ['퍼블릭', '클라우드', '정보', '위탁', '신뢰', '문제', '데이터', '저장', '위치', '불분', '명함', '각국', '규제', '및', '관련', '법령', '위반', '위험성'], [], ['가이드라인', '클라우드', '서비스', '이용', '절차', '단계', '사전', '준비', '계약', '체결', '서비스', '이용', '이용', '종료', '를', '제시', '각', '단계', '별로', '구체', '보안', '검토', '사항', '작성', '활용', '수'], [], ['이번', '가이드라인', '화학', '이노베이션', '주도', '아래', '작성', '점', '업계', '관심'], [], ['두', '업체', '배터리', '기술', '특허', '관련', '국내', '미국', '한치', '양보', '송전', '이번', '가이드라인', '마련', '두', '업체', '합의', '절대', '때문', '두', '업체', '주도', '아래', '작성', '것'], [], ['가이드라인', '전지', '산업', '협회', '회원', '사', '개최', '발전', '위원회', '등', '행사', '통해', '책자', '배포', '예정', '동시', '전지', '산업', '협회', '홈페이지', '업로드', '예정'], [], ['전지', '산업', '협회', '정', '남', '부회장', '이번', '이차전지', '산업', '기술', '보안', '가이드라인', '기술', '보호', '위해', '민간', '차원', '작성', '기술', '보안', '가이드라인', '점', '의미', '며', '해외', '진출', '클라우드', '도입', '검토', '이차전지', '업종', '다른', '업종', '참고', '수', '수준', '가이드라인', '설명'], [], ['향후', '산업', '협회', '기술', '보안', '이슈', '지속', '대응', '기술', '유출', '사고', '예방', '수', '지원', '고'], []], [['배터리', '핵심', '기술', '문단속', '합작', '사', '감시'], [], ['배터리', '국가', '핵심', '기술', '보호', '위해', '정부', '업계', '산업', '기술', '보안', '를', '구성', '배터리', '업계', '주요', '기업', '대표', '자문', '위원', '구성', '국가', '핵심', '기술', '개정', '대한', '의견', '시한', '해외', '기업', '인수합병', '과', '기술', '이전', '등', '대한', '가이드라인', '마련'], [], ['중국', '정부', '전기차', '배터리', '보조금', '내년', '폐지', '계획', '이', '발', '우리', '기업', '합작', '사', '설립', '현지', '공장', '증설', '투자', '적극', '상황', '국가', '핵심', '기술', '효과', '보호', '전략', '풀이'], [], ['업계', '산업', '통상', '자원부', '한국', '산업', '협회', '중국', '배터리', '합작', '사', '배터리', '국가', '핵심', '기술', '수', '우려', '보안', '대책', '마련', '기밀', '유지', '협약', '발전', '중국어', '작성', '중국', '법률', '관리', '우회', '덤핑', '금지', '조항', '핵심', '현지', '합작', '사가', '저가', '제품', '판매', '거나', '공유', '기밀', '정보', '활용', '이득', '취하', '직접', '고객', '상대', '것', '방지', '것', '목적'], [], ['합작', '사', '설립', '시', '주요', '직', '대한', '확보', '보안', '위반', '대한', '벌금', '조항', '비롯', '주요', '보안', '여건', '합작', '법인', '협약', '체결', '시', '포함', '계획', '중국', '합작', '때', '우리', '기업', '분', '를', '때문', '정보', '접근', '권한', '주요', '직', '확보', '직위', '이용', '기술', '유출', '발생', '가능성'], [], ['기술', '보호', '가이드라인', '연말', '최종', '안이', '마련', '것', '달', '실무', '위원회', '수정', '보완', '부분', '대해', '논의', '계획'], [], ['산업', '기술', '보안', '중국', '합작', '법인', '분과', '이노베이션', '팀', '삼성', '엘', '에프', '씨아이', '에스', '포함', '클라우드', '보안', '분과', '화학', '팀', '에코', '프로비', '엠', '포스코', '케미칼', '유진', '테크놀로지', '구성', '산업부', '국가정보원', '산업', '기밀', '보호', '센터', '산업', '기술', '보호', '협회', '자문', '위원', '역할'], [], ['중국', '세계', '최대', '전기차', '시장', '지난해', '판매', '전기차', '가운데', '절반', '가량', '중국', '소비', '그동안', '중국', '자국', '기업', '보호', '위해', '외국', '업체', '배터리', '사용', '전기차', '대해', '보조금', '지급', '정책', '내년', '보조금', '제도', '폐지', '예정', '현지', '시장', '공력', '위해', '화학', '삼성', '이노베이션', '현지', '업체', '합작', '사', '설립', '배터리', '생산', '라인', '증설', '등', '적극', '투자', '나선', '상태'], [], ['현재', '산업', '기술', '유출', '방지', '및', '보호', '관', '법률', '전기자동차', '용', '등', '중대', '에너지', '밀도', '파우치', '기준', '이상', '리튬', '이차전지', '설계', '공정', '제조', '및', '평가', '기술', '리튬', '이차', '전기', '니켈', '함량', '초과', '양극', '소재', '설계', '죄', '및', '공정', '기술', '이', '국가', '핵심', '기술', '지정'], [], ['출처', '전자부품', '전문', '미디어', '디', '렉']], [['단독', '화학', '배터리', '기술', '수출', '승인', '소송', '본격'], [], ['산업부', '기술', '유출', '우려', '계속', '확인', '것'], ['아이', '뉴스', '이영웅', '기자', '의', '전기차', '배터리', '영업비밀', '침해', '소송', '국', '내외', '진행', '중인', '가운데', '정부', '화학', '배터리', '기술', '수출', '요청', '승인', '것', '확인', '화학', '미국', '국제무역', '위원회', '델라웨어', '방법', '배터리', '기술', '소송', '자료', '제공', '수', '두', '대기업', '소송', '전이', '막'], [], ['화학', '각종', '기술', '유출', '논란', '정부', '허락', '미국', '소송', '위', '관련', '증거', '확보', '일단', '고지', '평가'], ['업계', '산업', '통상', '자원부', '달', '초', '유관', '기관', '전문가', '등', '구성', '산업', '기술', '보호', '위원회', '화학', '배터리', '국가', '핵심', '기술', '수출', '승인', '요청', '현행법', '국가', '연구개발', '비', '지원', '개발', '국가', '핵심', '기술', '국외', '유', '출시', '산업부', '장관', '수출', '승인', '반드시'], [], ['화학', '측은', '배터리', '기술', '유출', '논란', '대한', '대책', '마련', '정부', '추후', '점검', '조건', '승인', '산업부', '최근', '이', '내용', '결정', '문', '화학', '이노베이션', '양사', '통보', '것'], [], [], ['산업부', '고위', '관계자', '날', '통화', '각종', '전문가', '화학', '미국', '소송', '기술', '유출', '문제', '판단', '배터리', '기술', '해외', '수출', '요청', '승인', '며', '정부', '화학', '제시', '기술', '유출', '보완', '대책', '이행', '계속', '확인', '국익', '피해', '최선', '것', '말'], [], ['앞서', '화학', '이노베이션', '한국', '본사', '이노베이션', '미국법', '등', '관세', '법', '위반', '일부', '리튬이온', '배터리', '배터리', '셀', '및', '모듈', '등', '일부', '부품', '수입', '금지명령', '요청', '내용', '의견서', '미국', '제출', '동시', '델라웨어', '방법', '영업비밀', '침해', '소송', '제기'], [], ['지난달', '화학', '이노베이션', '상대로', '제기', '영업비밀', '침해', '건', '대해', '개시', '결정', '화학', '제소', '관련', '근거', '미국', '제공', '위', '정부', '승인', '산업부', '판단', '사실', '소송', '전초전', '분석'], [], ['이', '때문', '화학', '이노베이션', '기술', '유출', '문제', '계속', '더욱이', '화학', '법률', '대리인', '덴튼', '스', '과거', '중국', '배터리', '기업', '관련', '법인', '기술', '유출', '논란', '불', '화학', '청', '덴튼스', '국가', '별로', '별도', '독립', '법인', '정보공', '유가', '며', '논란', '축'], [], ['산업부', '기술', '유출', '논란', '불구', '화학', '요청', '화학', '계획', '미국', '소송', '진행', '수', '화학', '미국', '법원', '증거개시', '절차', '를', '활용', '배터리', '관련', '자료', '이노베이션', '측', '요구', '것'], [], ['다만', '미국', '법원', '소송', '진행', '과정', '기술', '유출', '우려', '해소', '만큼', '후속', '관리', '지적도'], [], ['익명', '요구', '지식', '재산', '관련', '변호사', '날', '화학', '미국', '소송', '승소', '위', '관련', '근거', '자료', '최대한', '수집', '상황', '산업부', '이', '판단', '환영', '것', '라며', '미국', '법원', '기술', '보호', '제도', '등', '기술', '유출', '우려', '만큼', '정부', '모니터링', '것', '말'], [], ['화학', '측은', '한국', '정부', '의', '보안', '정책', '미국', '법체계', '특성', '등', '감안', '기술', '유출', '가능성', '판단', '것', '라며', '증거개시', '절차', '과정', '미국', '법원', '비밀', '보호', '명령', '통해', '배터리', '기술', '관련', '내용', '보호', '만큼', '외부', '유출', '위험성', '전혀', '고', '말']]]\n"
     ]
    }
   ],
   "source": [
    "print(tokenized_doc)"
   ]
  },
  {
   "cell_type": "code",
   "execution_count": 24,
   "metadata": {},
   "outputs": [],
   "source": []
  },
  {
   "cell_type": "code",
   "execution_count": 29,
   "metadata": {},
   "outputs": [
    {
     "ename": "TypeError",
     "evalue": "decoding to str: need a bytes-like object, int found",
     "output_type": "error",
     "traceback": [
      "\u001b[1;31m---------------------------------------------------------------------------\u001b[0m",
      "\u001b[1;31mTypeError\u001b[0m                                 Traceback (most recent call last)",
      "\u001b[1;32m<ipython-input-29-5b0aa555cf1b>\u001b[0m in \u001b[0;36m<module>\u001b[1;34m\u001b[0m\n\u001b[0;32m      1\u001b[0m \u001b[1;32mfrom\u001b[0m \u001b[0mgensim\u001b[0m \u001b[1;32mimport\u001b[0m \u001b[0mcorpora\u001b[0m\u001b[1;33m\u001b[0m\u001b[1;33m\u001b[0m\u001b[0m\n\u001b[1;32m----> 2\u001b[1;33m \u001b[0mdictionary\u001b[0m \u001b[1;33m=\u001b[0m \u001b[0mcorpora\u001b[0m\u001b[1;33m.\u001b[0m\u001b[0mDictionary\u001b[0m\u001b[1;33m(\u001b[0m\u001b[0mtokenized_doc\u001b[0m\u001b[1;33m)\u001b[0m\u001b[1;33m\u001b[0m\u001b[1;33m\u001b[0m\u001b[0m\n\u001b[0m\u001b[0;32m      3\u001b[0m \u001b[0mcorpus\u001b[0m \u001b[1;33m=\u001b[0m \u001b[1;33m[\u001b[0m\u001b[0mdictionary\u001b[0m\u001b[1;33m.\u001b[0m\u001b[0mdoc2bow\u001b[0m\u001b[1;33m(\u001b[0m\u001b[0mtext\u001b[0m\u001b[1;33m)\u001b[0m \u001b[1;32mfor\u001b[0m \u001b[0mtext\u001b[0m \u001b[1;32min\u001b[0m \u001b[0mtokenized_doc\u001b[0m\u001b[1;33m]\u001b[0m\u001b[1;33m\u001b[0m\u001b[1;33m\u001b[0m\u001b[0m\n\u001b[0;32m      4\u001b[0m \u001b[0mprint\u001b[0m\u001b[1;33m(\u001b[0m\u001b[0mcorpus\u001b[0m\u001b[1;33m[\u001b[0m\u001b[1;36m1\u001b[0m\u001b[1;33m]\u001b[0m\u001b[1;33m)\u001b[0m \u001b[1;31m# 수행된 결과에서 두번째 뉴스 출력. 첫번째 문서의 인덱스는 0\u001b[0m\u001b[1;33m\u001b[0m\u001b[1;33m\u001b[0m\u001b[0m\n",
      "\u001b[1;32mC:\\ProgramData\\Anaconda3\\lib\\site-packages\\gensim\\corpora\\dictionary.py\u001b[0m in \u001b[0;36m__init__\u001b[1;34m(self, documents, prune_at)\u001b[0m\n\u001b[0;32m     89\u001b[0m \u001b[1;33m\u001b[0m\u001b[0m\n\u001b[0;32m     90\u001b[0m         \u001b[1;32mif\u001b[0m \u001b[0mdocuments\u001b[0m \u001b[1;32mis\u001b[0m \u001b[1;32mnot\u001b[0m \u001b[1;32mNone\u001b[0m\u001b[1;33m:\u001b[0m\u001b[1;33m\u001b[0m\u001b[1;33m\u001b[0m\u001b[0m\n\u001b[1;32m---> 91\u001b[1;33m             \u001b[0mself\u001b[0m\u001b[1;33m.\u001b[0m\u001b[0madd_documents\u001b[0m\u001b[1;33m(\u001b[0m\u001b[0mdocuments\u001b[0m\u001b[1;33m,\u001b[0m \u001b[0mprune_at\u001b[0m\u001b[1;33m=\u001b[0m\u001b[0mprune_at\u001b[0m\u001b[1;33m)\u001b[0m\u001b[1;33m\u001b[0m\u001b[1;33m\u001b[0m\u001b[0m\n\u001b[0m\u001b[0;32m     92\u001b[0m \u001b[1;33m\u001b[0m\u001b[0m\n\u001b[0;32m     93\u001b[0m     \u001b[1;32mdef\u001b[0m \u001b[0m__getitem__\u001b[0m\u001b[1;33m(\u001b[0m\u001b[0mself\u001b[0m\u001b[1;33m,\u001b[0m \u001b[0mtokenid\u001b[0m\u001b[1;33m)\u001b[0m\u001b[1;33m:\u001b[0m\u001b[1;33m\u001b[0m\u001b[1;33m\u001b[0m\u001b[0m\n",
      "\u001b[1;32mC:\\ProgramData\\Anaconda3\\lib\\site-packages\\gensim\\corpora\\dictionary.py\u001b[0m in \u001b[0;36madd_documents\u001b[1;34m(self, documents, prune_at)\u001b[0m\n\u001b[0;32m    210\u001b[0m \u001b[1;33m\u001b[0m\u001b[0m\n\u001b[0;32m    211\u001b[0m             \u001b[1;31m# update Dictionary with the document\u001b[0m\u001b[1;33m\u001b[0m\u001b[1;33m\u001b[0m\u001b[1;33m\u001b[0m\u001b[0m\n\u001b[1;32m--> 212\u001b[1;33m             \u001b[0mself\u001b[0m\u001b[1;33m.\u001b[0m\u001b[0mdoc2bow\u001b[0m\u001b[1;33m(\u001b[0m\u001b[0mdocument\u001b[0m\u001b[1;33m,\u001b[0m \u001b[0mallow_update\u001b[0m\u001b[1;33m=\u001b[0m\u001b[1;32mTrue\u001b[0m\u001b[1;33m)\u001b[0m  \u001b[1;31m# ignore the result, here we only care about updating token ids\u001b[0m\u001b[1;33m\u001b[0m\u001b[1;33m\u001b[0m\u001b[0m\n\u001b[0m\u001b[0;32m    213\u001b[0m \u001b[1;33m\u001b[0m\u001b[0m\n\u001b[0;32m    214\u001b[0m         logger.info(\n",
      "\u001b[1;32mC:\\ProgramData\\Anaconda3\\lib\\site-packages\\gensim\\corpora\\dictionary.py\u001b[0m in \u001b[0;36mdoc2bow\u001b[1;34m(self, document, allow_update, return_missing)\u001b[0m\n\u001b[0;32m    255\u001b[0m         \u001b[0mcounter\u001b[0m \u001b[1;33m=\u001b[0m \u001b[0mdefaultdict\u001b[0m\u001b[1;33m(\u001b[0m\u001b[0mint\u001b[0m\u001b[1;33m)\u001b[0m\u001b[1;33m\u001b[0m\u001b[1;33m\u001b[0m\u001b[0m\n\u001b[0;32m    256\u001b[0m         \u001b[1;32mfor\u001b[0m \u001b[0mw\u001b[0m \u001b[1;32min\u001b[0m \u001b[0mdocument\u001b[0m\u001b[1;33m:\u001b[0m\u001b[1;33m\u001b[0m\u001b[1;33m\u001b[0m\u001b[0m\n\u001b[1;32m--> 257\u001b[1;33m             \u001b[0mcounter\u001b[0m\u001b[1;33m[\u001b[0m\u001b[0mw\u001b[0m \u001b[1;32mif\u001b[0m \u001b[0misinstance\u001b[0m\u001b[1;33m(\u001b[0m\u001b[0mw\u001b[0m\u001b[1;33m,\u001b[0m \u001b[0municode\u001b[0m\u001b[1;33m)\u001b[0m \u001b[1;32melse\u001b[0m \u001b[0municode\u001b[0m\u001b[1;33m(\u001b[0m\u001b[0mw\u001b[0m\u001b[1;33m,\u001b[0m \u001b[1;34m'utf-8'\u001b[0m\u001b[1;33m)\u001b[0m\u001b[1;33m]\u001b[0m \u001b[1;33m+=\u001b[0m \u001b[1;36m1\u001b[0m\u001b[1;33m\u001b[0m\u001b[1;33m\u001b[0m\u001b[0m\n\u001b[0m\u001b[0;32m    258\u001b[0m \u001b[1;33m\u001b[0m\u001b[0m\n\u001b[0;32m    259\u001b[0m         \u001b[0mtoken2id\u001b[0m \u001b[1;33m=\u001b[0m \u001b[0mself\u001b[0m\u001b[1;33m.\u001b[0m\u001b[0mtoken2id\u001b[0m\u001b[1;33m\u001b[0m\u001b[1;33m\u001b[0m\u001b[0m\n",
      "\u001b[1;31mTypeError\u001b[0m: decoding to str: need a bytes-like object, int found"
     ]
    }
   ],
   "source": [
    "from gensim import corpora\n",
    "dictionary = corpora.Dictionary(tokenized_doc)\n",
    "corpus = [dictionary.doc2bow(text) for text in tokenized_doc]\n",
    "print(corpus[1]) # 수행된 결과에서 두번째 뉴스 출력. 첫번째 문서의 인덱스는 0"
   ]
  },
  {
   "cell_type": "code",
   "execution_count": null,
   "metadata": {},
   "outputs": [],
   "source": []
  },
  {
   "cell_type": "code",
   "execution_count": null,
   "metadata": {},
   "outputs": [],
   "source": []
  },
  {
   "cell_type": "code",
   "execution_count": null,
   "metadata": {},
   "outputs": [],
   "source": []
  },
  {
   "cell_type": "code",
   "execution_count": null,
   "metadata": {},
   "outputs": [],
   "source": []
  },
  {
   "cell_type": "code",
   "execution_count": null,
   "metadata": {},
   "outputs": [],
   "source": []
  },
  {
   "cell_type": "code",
   "execution_count": null,
   "metadata": {},
   "outputs": [],
   "source": []
  },
  {
   "cell_type": "code",
   "execution_count": null,
   "metadata": {},
   "outputs": [],
   "source": []
  },
  {
   "cell_type": "code",
   "execution_count": 89,
   "metadata": {},
   "outputs": [],
   "source": [
    "#필요한 모듈 임포트하기\n",
    "import pandas as pd\n",
    "from pandas import DataFrame  as df\n",
    "import numpy as np\n",
    "from collections import Counter\n",
    "from konlpy.tag import Okt\n",
    "okt = Okt()\n",
    "%matplotlib inline\n",
    "import matplotlib.pyplot as plt\n",
    "import re \n",
    "import gensim\n",
    "from gensim import corpora, models\n",
    "from gensim.models import CoherenceModel\n",
    "from wordcloud import WordCloud\n",
    "from datetime import datetime"
   ]
  },
  {
   "cell_type": "code",
   "execution_count": 92,
   "metadata": {},
   "outputs": [
    {
     "ename": "TypeError",
     "evalue": "decoding to str: need a bytes-like object, list found",
     "output_type": "error",
     "traceback": [
      "\u001b[1;31m---------------------------------------------------------------------------\u001b[0m",
      "\u001b[1;31mTypeError\u001b[0m                                 Traceback (most recent call last)",
      "\u001b[1;32m<ipython-input-92-d6a834cc6658>\u001b[0m in \u001b[0;36m<module>\u001b[1;34m\u001b[0m\n\u001b[1;32m----> 1\u001b[1;33m \u001b[0mid2word\u001b[0m\u001b[1;33m=\u001b[0m\u001b[0mcorpora\u001b[0m\u001b[1;33m.\u001b[0m\u001b[0mDictionary\u001b[0m\u001b[1;33m(\u001b[0m\u001b[0mtokenized_doc\u001b[0m\u001b[1;33m)\u001b[0m\u001b[1;33m\u001b[0m\u001b[1;33m\u001b[0m\u001b[0m\n\u001b[0m\u001b[0;32m      2\u001b[0m \u001b[0mid2word\u001b[0m\u001b[1;33m.\u001b[0m\u001b[0mfilter_extremes\u001b[0m\u001b[1;33m(\u001b[0m\u001b[0mno_below\u001b[0m \u001b[1;33m=\u001b[0m \u001b[1;36m2\u001b[0m\u001b[1;33m)\u001b[0m \u001b[1;31m#20회 이하로 등장한 단어는 삭제\u001b[0m\u001b[1;33m\u001b[0m\u001b[1;33m\u001b[0m\u001b[0m\n\u001b[0;32m      3\u001b[0m \u001b[0mtexts\u001b[0m \u001b[1;33m=\u001b[0m \u001b[0mdata_word\u001b[0m\u001b[1;33m\u001b[0m\u001b[1;33m\u001b[0m\u001b[0m\n\u001b[0;32m      4\u001b[0m \u001b[0mcorpus\u001b[0m\u001b[1;33m=\u001b[0m\u001b[1;33m[\u001b[0m\u001b[0mid2word\u001b[0m\u001b[1;33m.\u001b[0m\u001b[0mdoc2bow\u001b[0m\u001b[1;33m(\u001b[0m\u001b[0mtext\u001b[0m\u001b[1;33m)\u001b[0m \u001b[1;32mfor\u001b[0m \u001b[0mtext\u001b[0m \u001b[1;32min\u001b[0m \u001b[0mtexts\u001b[0m\u001b[1;33m]\u001b[0m\u001b[1;33m\u001b[0m\u001b[1;33m\u001b[0m\u001b[0m\n\u001b[0;32m      5\u001b[0m \u001b[1;33m\u001b[0m\u001b[0m\n",
      "\u001b[1;32mC:\\ProgramData\\Anaconda3\\lib\\site-packages\\gensim\\corpora\\dictionary.py\u001b[0m in \u001b[0;36m__init__\u001b[1;34m(self, documents, prune_at)\u001b[0m\n\u001b[0;32m     89\u001b[0m \u001b[1;33m\u001b[0m\u001b[0m\n\u001b[0;32m     90\u001b[0m         \u001b[1;32mif\u001b[0m \u001b[0mdocuments\u001b[0m \u001b[1;32mis\u001b[0m \u001b[1;32mnot\u001b[0m \u001b[1;32mNone\u001b[0m\u001b[1;33m:\u001b[0m\u001b[1;33m\u001b[0m\u001b[1;33m\u001b[0m\u001b[0m\n\u001b[1;32m---> 91\u001b[1;33m             \u001b[0mself\u001b[0m\u001b[1;33m.\u001b[0m\u001b[0madd_documents\u001b[0m\u001b[1;33m(\u001b[0m\u001b[0mdocuments\u001b[0m\u001b[1;33m,\u001b[0m \u001b[0mprune_at\u001b[0m\u001b[1;33m=\u001b[0m\u001b[0mprune_at\u001b[0m\u001b[1;33m)\u001b[0m\u001b[1;33m\u001b[0m\u001b[1;33m\u001b[0m\u001b[0m\n\u001b[0m\u001b[0;32m     92\u001b[0m \u001b[1;33m\u001b[0m\u001b[0m\n\u001b[0;32m     93\u001b[0m     \u001b[1;32mdef\u001b[0m \u001b[0m__getitem__\u001b[0m\u001b[1;33m(\u001b[0m\u001b[0mself\u001b[0m\u001b[1;33m,\u001b[0m \u001b[0mtokenid\u001b[0m\u001b[1;33m)\u001b[0m\u001b[1;33m:\u001b[0m\u001b[1;33m\u001b[0m\u001b[1;33m\u001b[0m\u001b[0m\n",
      "\u001b[1;32mC:\\ProgramData\\Anaconda3\\lib\\site-packages\\gensim\\corpora\\dictionary.py\u001b[0m in \u001b[0;36madd_documents\u001b[1;34m(self, documents, prune_at)\u001b[0m\n\u001b[0;32m    210\u001b[0m \u001b[1;33m\u001b[0m\u001b[0m\n\u001b[0;32m    211\u001b[0m             \u001b[1;31m# update Dictionary with the document\u001b[0m\u001b[1;33m\u001b[0m\u001b[1;33m\u001b[0m\u001b[1;33m\u001b[0m\u001b[0m\n\u001b[1;32m--> 212\u001b[1;33m             \u001b[0mself\u001b[0m\u001b[1;33m.\u001b[0m\u001b[0mdoc2bow\u001b[0m\u001b[1;33m(\u001b[0m\u001b[0mdocument\u001b[0m\u001b[1;33m,\u001b[0m \u001b[0mallow_update\u001b[0m\u001b[1;33m=\u001b[0m\u001b[1;32mTrue\u001b[0m\u001b[1;33m)\u001b[0m  \u001b[1;31m# ignore the result, here we only care about updating token ids\u001b[0m\u001b[1;33m\u001b[0m\u001b[1;33m\u001b[0m\u001b[0m\n\u001b[0m\u001b[0;32m    213\u001b[0m \u001b[1;33m\u001b[0m\u001b[0m\n\u001b[0;32m    214\u001b[0m         logger.info(\n",
      "\u001b[1;32mC:\\ProgramData\\Anaconda3\\lib\\site-packages\\gensim\\corpora\\dictionary.py\u001b[0m in \u001b[0;36mdoc2bow\u001b[1;34m(self, document, allow_update, return_missing)\u001b[0m\n\u001b[0;32m    255\u001b[0m         \u001b[0mcounter\u001b[0m \u001b[1;33m=\u001b[0m \u001b[0mdefaultdict\u001b[0m\u001b[1;33m(\u001b[0m\u001b[0mint\u001b[0m\u001b[1;33m)\u001b[0m\u001b[1;33m\u001b[0m\u001b[1;33m\u001b[0m\u001b[0m\n\u001b[0;32m    256\u001b[0m         \u001b[1;32mfor\u001b[0m \u001b[0mw\u001b[0m \u001b[1;32min\u001b[0m \u001b[0mdocument\u001b[0m\u001b[1;33m:\u001b[0m\u001b[1;33m\u001b[0m\u001b[1;33m\u001b[0m\u001b[0m\n\u001b[1;32m--> 257\u001b[1;33m             \u001b[0mcounter\u001b[0m\u001b[1;33m[\u001b[0m\u001b[0mw\u001b[0m \u001b[1;32mif\u001b[0m \u001b[0misinstance\u001b[0m\u001b[1;33m(\u001b[0m\u001b[0mw\u001b[0m\u001b[1;33m,\u001b[0m \u001b[0municode\u001b[0m\u001b[1;33m)\u001b[0m \u001b[1;32melse\u001b[0m \u001b[0municode\u001b[0m\u001b[1;33m(\u001b[0m\u001b[0mw\u001b[0m\u001b[1;33m,\u001b[0m \u001b[1;34m'utf-8'\u001b[0m\u001b[1;33m)\u001b[0m\u001b[1;33m]\u001b[0m \u001b[1;33m+=\u001b[0m \u001b[1;36m1\u001b[0m\u001b[1;33m\u001b[0m\u001b[1;33m\u001b[0m\u001b[0m\n\u001b[0m\u001b[0;32m    258\u001b[0m \u001b[1;33m\u001b[0m\u001b[0m\n\u001b[0;32m    259\u001b[0m         \u001b[0mtoken2id\u001b[0m \u001b[1;33m=\u001b[0m \u001b[0mself\u001b[0m\u001b[1;33m.\u001b[0m\u001b[0mtoken2id\u001b[0m\u001b[1;33m\u001b[0m\u001b[1;33m\u001b[0m\u001b[0m\n",
      "\u001b[1;31mTypeError\u001b[0m: decoding to str: need a bytes-like object, list found"
     ]
    }
   ],
   "source": [
    "id2word=corpora.Dictionary(tokenized_doc)\n",
    "id2word.filter_extremes(no_below = 2) #20회 이하로 등장한 단어는 삭제\n",
    "texts = data_word\n",
    "corpus=[id2word.doc2bow(text) for text in texts]\n",
    "\n",
    "\n",
    "os.environ['MALLET_HOME'] = 'C:/Users/MoTS/topic_modeling/mallet-2.0.8/'\n",
    "\n",
    "mallet_path = 'C:/Users/MoTS/topic_modeling/mallet-2.0.8/bin/mallet'\n",
    "ldamallet = gensim.models.wrappers.LdaMallet(mallet_path, corpus=corpus, num_topics=2, id2word=id2word)"
   ]
  },
  {
   "cell_type": "code",
   "execution_count": 72,
   "metadata": {},
   "outputs": [],
   "source": [
    "topics = ldamallet.print_topics(num_words=10)"
   ]
  },
  {
   "cell_type": "code",
   "execution_count": 73,
   "metadata": {},
   "outputs": [
    {
     "name": "stdout",
     "output_type": "stream",
     "text": [
      "(0, '0.155*\"기술\" + 0.109*\"유출\" + 0.101*\"화학\" + 0.047*\"미국\" + 0.047*\"승인\" + 0.047*\"영업비밀\" + 0.039*\"수출\" + 0.039*\"고\" + 0.031*\"로펌\" + 0.031*\"산업\"')\n",
      "(1, '0.097*\"소송\" + 0.062*\"이노베이션\" + 0.056*\"보호\" + 0.056*\"정부\" + 0.049*\"법원\" + 0.049*\"자료\" + 0.042*\"제출\" + 0.035*\"과정\" + 0.035*\"관련\" + 0.035*\"배터리\"')\n"
     ]
    }
   ],
   "source": [
    "for topic in topics:\n",
    "    print(topic)"
   ]
  },
  {
   "cell_type": "code",
   "execution_count": 81,
   "metadata": {},
   "outputs": [
    {
     "name": "stderr",
     "output_type": "stream",
     "text": [
      "C:\\ProgramData\\Anaconda3\\lib\\site-packages\\pyLDAvis\\_prepare.py:223: RuntimeWarning: divide by zero encountered in log\n",
      "  kernel = (topic_given_term * np.log((topic_given_term.T / topic_proportion).T))\n",
      "C:\\ProgramData\\Anaconda3\\lib\\site-packages\\pyLDAvis\\_prepare.py:240: RuntimeWarning: divide by zero encountered in log\n",
      "  log_lift = np.log(topic_term_dists / term_proportion)\n",
      "C:\\ProgramData\\Anaconda3\\lib\\site-packages\\pyLDAvis\\_prepare.py:241: RuntimeWarning: divide by zero encountered in log\n",
      "  log_ttd = np.log(topic_term_dists)\n",
      "C:\\ProgramData\\Anaconda3\\lib\\site-packages\\pyLDAvis\\_prepare.py:257: FutureWarning: Sorting because non-concatenation axis is not aligned. A future version\n",
      "of pandas will change to not sort by default.\n",
      "\n",
      "To accept the future behavior, pass 'sort=False'.\n",
      "\n",
      "To retain the current behavior and silence the warning, pass 'sort=True'.\n",
      "\n",
      "  return pd.concat([default_term_info] + list(topic_dfs))\n"
     ]
    },
    {
     "data": {
      "text/html": [
       "\n",
       "<link rel=\"stylesheet\" type=\"text/css\" href=\"https://cdn.rawgit.com/bmabey/pyLDAvis/files/ldavis.v1.0.0.css\">\n",
       "\n",
       "\n",
       "<div id=\"ldavis_el3249219409357283282655034430\"></div>\n",
       "<script type=\"text/javascript\">\n",
       "\n",
       "var ldavis_el3249219409357283282655034430_data = {\"mdsDat\": {\"x\": [0.29456945124140743, -0.004553094762903797, 0.21069281243332658, -0.14086331641047636, 0.20702312168391157, -0.09983111867636885, -0.20350219968815403, -0.26353565582074256], \"y\": [0.048803927555089124, -0.3358757704460816, 0.05438190792661592, -0.09809890233322018, 0.1439485112945154, -0.20876067905430243, 0.2070787624312068, 0.18852224262617698], \"topics\": [1, 2, 3, 4, 5, 6, 7, 8], \"cluster\": [1, 1, 1, 1, 1, 1, 1, 1], \"Freq\": [12.688849449157715, 12.677894592285156, 12.555974960327148, 12.544669151306152, 12.53940200805664, 12.39716911315918, 12.366975784301758, 12.229061126708984]}, \"tinfo\": {\"Category\": [\"Default\", \"Default\", \"Default\", \"Default\", \"Default\", \"Default\", \"Default\", \"Default\", \"Default\", \"Default\", \"Default\", \"Default\", \"Default\", \"Default\", \"Default\", \"Default\", \"Default\", \"Default\", \"Default\", \"Default\", \"Default\", \"Default\", \"Default\", \"Default\", \"Default\", \"Default\", \"Default\", \"Default\", \"Default\", \"Default\", \"Topic1\", \"Topic1\", \"Topic1\", \"Topic1\", \"Topic1\", \"Topic1\", \"Topic1\", \"Topic1\", \"Topic1\", \"Topic1\", \"Topic1\", \"Topic1\", \"Topic1\", \"Topic1\", \"Topic1\", \"Topic1\", \"Topic1\", \"Topic1\", \"Topic1\", \"Topic1\", \"Topic1\", \"Topic1\", \"Topic1\", \"Topic1\", \"Topic1\", \"Topic1\", \"Topic1\", \"Topic1\", \"Topic1\", \"Topic1\", \"Topic1\", \"Topic1\", \"Topic1\", \"Topic1\", \"Topic2\", \"Topic2\", \"Topic2\", \"Topic2\", \"Topic2\", \"Topic2\", \"Topic2\", \"Topic2\", \"Topic2\", \"Topic2\", \"Topic2\", \"Topic2\", \"Topic2\", \"Topic2\", \"Topic2\", \"Topic2\", \"Topic2\", \"Topic2\", \"Topic2\", \"Topic2\", \"Topic2\", \"Topic2\", \"Topic2\", \"Topic2\", \"Topic2\", \"Topic2\", \"Topic2\", \"Topic2\", \"Topic2\", \"Topic2\", \"Topic2\", \"Topic2\", \"Topic2\", \"Topic2\", \"Topic2\", \"Topic3\", \"Topic3\", \"Topic3\", \"Topic3\", \"Topic3\", \"Topic3\", \"Topic3\", \"Topic3\", \"Topic3\", \"Topic3\", \"Topic3\", \"Topic3\", \"Topic3\", \"Topic3\", \"Topic3\", \"Topic3\", \"Topic3\", \"Topic3\", \"Topic3\", \"Topic3\", \"Topic3\", \"Topic3\", \"Topic3\", \"Topic3\", \"Topic3\", \"Topic3\", \"Topic3\", \"Topic3\", \"Topic3\", \"Topic3\", \"Topic3\", \"Topic3\", \"Topic3\", \"Topic4\", \"Topic4\", \"Topic4\", \"Topic4\", \"Topic4\", \"Topic4\", \"Topic4\", \"Topic4\", \"Topic4\", \"Topic4\", \"Topic4\", \"Topic4\", \"Topic4\", \"Topic4\", \"Topic4\", \"Topic4\", \"Topic4\", \"Topic4\", \"Topic4\", \"Topic4\", \"Topic4\", \"Topic4\", \"Topic4\", \"Topic4\", \"Topic4\", \"Topic4\", \"Topic4\", \"Topic4\", \"Topic4\", \"Topic4\", \"Topic4\", \"Topic4\", \"Topic5\", \"Topic5\", \"Topic5\", \"Topic5\", \"Topic5\", \"Topic5\", \"Topic5\", \"Topic5\", \"Topic5\", \"Topic5\", \"Topic5\", \"Topic5\", \"Topic5\", \"Topic5\", \"Topic5\", \"Topic5\", \"Topic5\", \"Topic5\", \"Topic5\", \"Topic5\", \"Topic5\", \"Topic5\", \"Topic5\", \"Topic5\", \"Topic5\", \"Topic5\", \"Topic5\", \"Topic5\", \"Topic5\", \"Topic5\", \"Topic5\", \"Topic5\", \"Topic5\", \"Topic5\", \"Topic6\", \"Topic6\", \"Topic6\", \"Topic6\", \"Topic6\", \"Topic6\", \"Topic6\", \"Topic6\", \"Topic6\", \"Topic6\", \"Topic6\", \"Topic6\", \"Topic6\", \"Topic6\", \"Topic6\", \"Topic6\", \"Topic6\", \"Topic6\", \"Topic6\", \"Topic6\", \"Topic6\", \"Topic6\", \"Topic6\", \"Topic6\", \"Topic6\", \"Topic6\", \"Topic6\", \"Topic6\", \"Topic6\", \"Topic6\", \"Topic6\", \"Topic6\", \"Topic6\", \"Topic6\", \"Topic6\", \"Topic7\", \"Topic7\", \"Topic7\", \"Topic7\", \"Topic7\", \"Topic7\", \"Topic7\", \"Topic7\", \"Topic7\", \"Topic7\", \"Topic7\", \"Topic7\", \"Topic7\", \"Topic7\", \"Topic7\", \"Topic7\", \"Topic7\", \"Topic7\", \"Topic7\", \"Topic7\", \"Topic7\", \"Topic7\", \"Topic7\", \"Topic7\", \"Topic7\", \"Topic7\", \"Topic7\", \"Topic7\", \"Topic7\", \"Topic7\", \"Topic7\", \"Topic7\", \"Topic7\", \"Topic7\", \"Topic7\", \"Topic7\", \"Topic8\", \"Topic8\", \"Topic8\", \"Topic8\", \"Topic8\", \"Topic8\", \"Topic8\", \"Topic8\", \"Topic8\", \"Topic8\", \"Topic8\", \"Topic8\", \"Topic8\", \"Topic8\", \"Topic8\", \"Topic8\", \"Topic8\", \"Topic8\", \"Topic8\", \"Topic8\", \"Topic8\", \"Topic8\", \"Topic8\", \"Topic8\", \"Topic8\", \"Topic8\", \"Topic8\", \"Topic8\", \"Topic8\", \"Topic8\", \"Topic8\", \"Topic8\", \"Topic8\", \"Topic8\"], \"Freq\": [17.0, 11.0, 12.0, 8.0, 12.0, 7.0, 7.0, 6.0, 6.0, 7.0, 7.0, 5.0, 5.0, 4.0, 6.0, 4.0, 6.0, 4.0, 4.0, 4.0, 4.0, 4.0, 5.0, 5.0, 3.0, 3.0, 3.0, 3.0, 3.0, 3.0, 2.2348748483965473, 2.2348748483965473, 8.939499393586189, 4.4697496967930945, 2.2348748483965473, 1.1174374241982736, 1.1174374241982736, 6.704624545189642, 1.1174374241982736, 1.1174374241982736, 1.1174374241982736, 2.2348748483965473, 0.0, 0.0, 0.0, 0.0, 0.0, 0.0, 0.0, 0.0, 0.0, 0.0, 0.0, 0.0, 0.0, 0.0, 0.0, 0.0, 0.0, 0.0, 0.0, 0.0, 0.0, 0.0, 2.2329453499086442, 4.4658906998172885, 3.3494180248629664, 4.4658906998172885, 3.3494180248629664, 6.698836049725933, 4.4658906998172885, 1.1164726749543221, 1.1164726749543221, 1.1164726749543221, 1.1164726749543221, 1.1164726749543221, 0.0, 0.0, 0.0, 0.0, 0.0, 0.0, 0.0, 0.0, 0.0, 0.0, 0.0, 0.0, 0.0, 0.0, 0.0, 0.0, 0.0, 0.0, 0.0, 0.0, 0.0, 0.0, 0.0, 1.8528545482738599, 2.77928182241079, 2.77928182241079, 2.77928182241079, 4.63213637068465, 10.190700015506229, 4.63213637068465, 0.9264272741369299, 0.9264272741369299, 0.9264272741369299, 1.8528545482738599, 0.0, 0.0, 0.0, 0.0, 0.0, 0.0, 0.0, 0.0, 0.0, 0.0, 0.0, 0.0, 0.0, 0.0, 0.0, 0.0, 0.0, 0.0, 0.0, 0.0, 0.0, 0.0, 6.585951585036058, 3.951570951021635, 7.90314190204327, 5.268761268028847, 3.951570951021635, 5.268761268028847, 1.3171903170072117, 0.0, 0.0, 0.0, 0.0, 0.0, 0.0, 0.0, 0.0, 0.0, 0.0, 0.0, 0.0, 0.0, 0.0, 0.0, 0.0, 0.0, 0.0, 0.0, 0.0, 0.0, 0.0, 0.0, 0.0, 0.0, 3.4232566833496096, 7.702327537536621, 1.7116283416748048, 4.279070854187012, 5.134885025024414, 5.990699195861816, 0.8558141708374024, 0.8558141708374024, 0.8558141708374024, 0.8558141708374024, 2.567442512512207, 0.0, 0.0, 0.0, 0.0, 0.0, 0.0, 0.0, 0.0, 0.0, 0.0, 0.0, 0.0, 0.0, 0.0, 0.0, 0.0, 0.0, 0.0, 0.0, 0.0, 0.0, 0.0, 0.0, 2.6034055856557994, 2.6034055856557994, 4.339009309426332, 2.6034055856557994, 1.7356037237705328, 17.356037237705326, 0.8678018618852664, 0.8678018618852664, 0.8678018618852664, 0.0, 0.0, 0.0, 0.0, 0.0, 0.0, 0.0, 0.0, 0.0, 0.0, 0.0, 0.0, 0.0, 0.0, 0.0, 0.0, 0.0, 0.0, 0.0, 0.0, 0.0, 0.0, 0.0, 0.0, 0.0, 0.0, 3.7513160705566406, 3.7513160705566406, 2.5008773803710938, 5.0017547607421875, 2.5008773803710938, 2.5008773803710938, 1.2504386901855469, 2.5008773803710938, 1.2504386901855469, 1.2504386901855469, 1.2504386901855469, 2.5008773803710938, 2.5008773803710938, 1.2504386901855469, 0.0, 0.0, 0.0, 0.0, 0.0, 0.0, 0.0, 0.0, 0.0, 0.0, 0.0, 0.0, 0.0, 0.0, 0.0, 0.0, 0.0, 0.0, 0.0, 0.0, 0.0, 0.0, 1.5897779918852306, 2.384666987827846, 3.1795559837704612, 2.384666987827846, 4.769333975655692, 11.128445943196613, 4.769333975655692, 0.7948889959426153, 0.7948889959426153, 1.5897779918852306, 0.0, 0.0, 0.0, 0.0, 0.0, 0.0, 0.0, 0.0, 0.0, 0.0, 0.0, 0.0, 0.0, 0.0, 0.0, 0.0, 0.0, 0.0, 0.0, 0.0, 0.0, 0.0, 0.0, 0.0], \"Term\": [\"\\uae30\\uc220\", \"\\uc720\\ucd9c\", \"\\uc18c\\uc1a1\", \"\\uc815\\ubd80\", \"\\ud654\\ud559\", \"\\uc81c\\ucd9c\", \"\\uc774\\ub178\\ubca0\\uc774\\uc158\", \"\\ubbf8\\uad6d\", \"\\uacfc\\uc815\", \"\\uc2b9\\uc778\", \"\\ubcf4\\ud638\", \"\\uc704\\ud574\", \"\\ud575\\uc2ec\", \"\\uc601\\uc5c5\\ube44\\ubc00\", \"\\uc790\\ub8cc\", \"\\uace0\", \"\\ubc95\\uc6d0\", \"\\uac00\\ub2a5\\uc131\", \"\\uc704\\ubc18\", \"\\uc0b0\\uc5c5\", \"\\ub85c\\ud38c\", \"\\uc218\\ucd9c\", \"\\uad00\\ub828\", \"\\ubc30\\ud130\\ub9ac\", \"\\uc9c4\\ud589\", \"\\uacbd\\uc6b0\", \"\\uac80\\ud1a0\", \"\\ube44\\ubc00\", \"\\uc804\\ud600\", \"\\uba85\\ub839\", \"\\ud55c\\uad6d\", \"\\uc8fc\\uc7a5\", \"\\uc815\\ubd80\", \"\\uac00\\ub2a5\\uc131\", \"\\uc808\\ucc28\", \"\\uc790\\uc6d0\\ubd80\", \"\\uc5ec\\ubd80\", \"\\ud654\\ud559\", \"\\ub300\\ub9ac\\uc778\", \"\\uc911\", \"\\uc0c1\\ud669\", \"\\uc790\\ub8cc\", \"\\uae30\\uc220\", \"\\ub300\\ub9bd\", \"\\ubc30\\ud130\\ub9ac\", \"\\ubc95\\uc6d0\", \"\\uc720\\ucd9c\", \"\\uc774\\ubc88\", \"\\uace0\", \"\\uad00\\ub828\", \"\\ub85c\\ud38c\", \"\\ubbf8\\uad6d\", \"\\uc18c\\uc1a1\", \"\\uc218\", \"\\uc2b9\\uc778\", \"\\uc601\\uc5c5\\ube44\\ubc00\", \"\\uc678\\ubd80\", \"\\uc704\\ud574\", \"\\uc774\\ub178\\ubca0\\uc774\\uc158\", \"\\uc804\\uae30\\ucc28\", \"\\uc99d\\uac70\\uac1c\\uc2dc\", \"\\uc804\\ud600\", \"\\uc81c\\ucd9c\", \"\\ud574\\uc678\", \"\\uc99d\\uac70\\uac1c\\uc2dc\", \"\\uc704\\ubc18\", \"\\uba85\\ub839\", \"\\uc0b0\\uc5c5\", \"\\uc804\\ud600\", \"\\ubbf8\\uad6d\", \"\\ub85c\\ud38c\", \"\\uc9c0\\ubc29\\ubc95\\uc6d0\", \"\\ub97c\", \"\\ub300\\ub9ac\\uc778\", \"\\uc911\", \"\\ud574\\uc678\", \"\\uae30\\uc220\", \"\\ub300\\ub9bd\", \"\\ubc30\\ud130\\ub9ac\", \"\\ubc95\\uc6d0\", \"\\uc720\\ucd9c\", \"\\uc774\\ubc88\", \"\\uc790\\ub8cc\", \"\\uac00\\ub2a5\\uc131\", \"\\uace0\", \"\\uad00\\ub828\", \"\\uc18c\\uc1a1\", \"\\uc218\", \"\\uc2b9\\uc778\", \"\\uc5ec\\ubd80\", \"\\uc601\\uc5c5\\ube44\\ubc00\", \"\\uc678\\ubd80\", \"\\uc704\\ud574\", \"\\uc774\\ub178\\ubca0\\uc774\\uc158\", \"\\uc815\\ubd80\", \"\\uc81c\\ucd9c\", \"\\uc8fc\\uc7a5\", \"\\uc804\\uae30\\ucc28\", \"\\ud654\\ud559\", \"\\uad00\\ub9ac\", \"\\uc815\\ubcf4\", \"\\uc678\\ubd80\", \"\\uc218\", \"\\uace0\", \"\\uc18c\\uc1a1\", \"\\uc790\\ub8cc\", \"\\uc810\", \"\\uc790\\uc6d0\\ubd80\", \"\\uc5ec\\ubd80\", \"\\uad00\\ub828\", \"\\uae30\\uc220\", \"\\ub300\\ub9bd\", \"\\ubc30\\ud130\\ub9ac\", \"\\ubc95\\uc6d0\", \"\\uc720\\ucd9c\", \"\\uc774\\ubc88\", \"\\uac00\\ub2a5\\uc131\", \"\\ub85c\\ud38c\", \"\\ubbf8\\uad6d\", \"\\uc2b9\\uc778\", \"\\uc601\\uc5c5\\ube44\\ubc00\", \"\\uc704\\ud574\", \"\\uc774\\ub178\\ubca0\\uc774\\uc158\", \"\\uc804\\uae30\\ucc28\", \"\\uc804\\ud600\", \"\\uc815\\ubd80\", \"\\uc81c\\ucd9c\", \"\\uc8fc\\uc7a5\", \"\\ud574\\uc678\", \"\\ud575\\uc2ec\", \"\\uc99d\\uac70\\uac1c\\uc2dc\", \"\\ud68c\\uc0ac\", \"\\uacfc\\uc815\", \"\\uc9c4\\ud589\", \"\\uc81c\\ucd9c\", \"\\uc704\\ud574\", \"\\uad00\\ub828\", \"\\uc2b9\\uc778\", \"\\ud574\\uc678\", \"\\uae30\\uc220\", \"\\ub300\\ub9bd\", \"\\ubc30\\ud130\\ub9ac\", \"\\ubc95\\uc6d0\", \"\\uc720\\ucd9c\", \"\\uc774\\ubc88\", \"\\uc790\\ub8cc\", \"\\uac00\\ub2a5\\uc131\", \"\\uace0\", \"\\ub85c\\ud38c\", \"\\ubbf8\\uad6d\", \"\\uc18c\\uc1a1\", \"\\uc218\", \"\\uc5ec\\ubd80\", \"\\uc601\\uc5c5\\ube44\\ubc00\", \"\\uc678\\ubd80\", \"\\uc774\\ub178\\ubca0\\uc774\\uc158\", \"\\uc804\\uae30\\ucc28\", \"\\uc804\\ud600\", \"\\uc815\\ubd80\", \"\\uc8fc\\uc7a5\", \"\\ud575\\uc2ec\", \"\\ud654\\ud559\", \"\\uc99d\\uac70\\uac1c\\uc2dc\", \"\\uacf5\\uac1c\", \"\\ube44\\ubc00\", \"\\uc774\\ub178\\ubca0\\uc774\\uc158\", \"\\uc774\\ubc88\", \"\\ubc30\\ud130\\ub9ac\", \"\\ubcf4\\ud638\", \"\\ud654\\ud559\", \"\\uc9c0\\ubc29\\ubc95\\uc6d0\", \"\\ud1b5\\uc0c1\", \"\\uacf5\\uac1c\", \"\\uc808\\ucc28\", \"\\uc18c\\uc1a1\", \"\\uae30\\uc220\", \"\\ub300\\ub9bd\", \"\\ubc95\\uc6d0\", \"\\uc720\\ucd9c\", \"\\uc790\\ub8cc\", \"\\uac00\\ub2a5\\uc131\", \"\\uace0\", \"\\uad00\\ub828\", \"\\ub85c\\ud38c\", \"\\ubbf8\\uad6d\", \"\\uc218\", \"\\uc2b9\\uc778\", \"\\uc5ec\\ubd80\", \"\\uc601\\uc5c5\\ube44\\ubc00\", \"\\uc678\\ubd80\", \"\\uc704\\ud574\", \"\\uc804\\uae30\\ucc28\", \"\\uc804\\ud600\", \"\\uc815\\ubd80\", \"\\ud575\\uc2ec\", \"\\ud574\\uc678\", \"\\uc8fc\\uc7a5\", \"\\uc81c\\ucd9c\", \"\\uc2e0\\uace0\", \"\\uac83\", \"\\uc218\\ucd9c\", \"\\uad6d\\uac00\", \"\\ud68c\\uc0ac\", \"\\uae30\\uc220\", \"\\ub97c\", \"\\ubc95\", \"\\ubc30\\ud130\\ub9ac\", \"\\ub300\\ub9bd\", \"\\ubc95\\uc6d0\", \"\\uc720\\ucd9c\", \"\\uc774\\ubc88\", \"\\uc790\\ub8cc\", \"\\uac00\\ub2a5\\uc131\", \"\\uace0\", \"\\uad00\\ub828\", \"\\ub85c\\ud38c\", \"\\ubbf8\\uad6d\", \"\\uc18c\\uc1a1\", \"\\uc218\", \"\\uc2b9\\uc778\", \"\\uc5ec\\ubd80\", \"\\uc601\\uc5c5\\ube44\\ubc00\", \"\\uc678\\ubd80\", \"\\uc704\\ud574\", \"\\uc774\\ub178\\ubca0\\uc774\\uc158\", \"\\uc804\\uae30\\ucc28\", \"\\uc804\\ud600\", \"\\uc815\\ubd80\", \"\\ud575\\uc2ec\", \"\\ud574\\uc678\", \"\\uc8fc\\uc7a5\", \"\\uc81c\\ucd9c\", \"\\ud654\\ud559\", \"\\uacbd\\uc6b0\", \"\\uac80\\ud1a0\", \"\\uc704\\uc6d0\\ud68c\", \"\\ud575\\uc2ec\", \"\\ub300\\ub9bd\", \"\\ubc95\", \"\\ud1b5\\ud574\", \"\\uba70\", \"\\ud1b5\\uc0c1\", \"\\uacf5\\uac1c\", \"\\uc0c1\\ud669\", \"\\ubcf4\\ud638\", \"\\uc2b9\\uc778\", \"\\ubc95\\uc6d0\", \"\\uae30\\uc220\", \"\\ubc30\\ud130\\ub9ac\", \"\\uc720\\ucd9c\", \"\\uc774\\ubc88\", \"\\uc790\\ub8cc\", \"\\uac00\\ub2a5\\uc131\", \"\\uace0\", \"\\uad00\\ub828\", \"\\ub85c\\ud38c\", \"\\ubbf8\\uad6d\", \"\\uc18c\\uc1a1\", \"\\uc218\", \"\\uc5ec\\ubd80\", \"\\uc601\\uc5c5\\ube44\\ubc00\", \"\\uc678\\ubd80\", \"\\uc704\\ud574\", \"\\uc81c\\ucd9c\", \"\\uc815\\ubd80\", \"\\uc804\\ud600\", \"\\uc804\\uae30\\ucc28\", \"\\uc774\\ub178\\ubca0\\uc774\\uc158\", \"\\uc8fc\\uc7a5\", \"\\uc99d\\uac70\", \"\\ud574\\ub2f9\", \"\\ub4f1\", \"\\uc804\\uae30\\ucc28\", \"\\uc601\\uc5c5\\ube44\\ubc00\", \"\\uc720\\ucd9c\", \"\\ubc95\\uc6d0\", \"\\uc810\", \"\\ud1b5\\ud574\", \"\\uba70\", \"\\uae30\\uc220\", \"\\ub300\\ub9bd\", \"\\ubc30\\ud130\\ub9ac\", \"\\uc774\\ubc88\", \"\\uc790\\ub8cc\", \"\\uac00\\ub2a5\\uc131\", \"\\uace0\", \"\\uad00\\ub828\", \"\\ub85c\\ud38c\", \"\\ubbf8\\uad6d\", \"\\uc18c\\uc1a1\", \"\\uc218\", \"\\uc2b9\\uc778\", \"\\uc5ec\\ubd80\", \"\\uc678\\ubd80\", \"\\uc704\\ud574\", \"\\uc774\\ub178\\ubca0\\uc774\\uc158\", \"\\uc804\\ud600\", \"\\uc815\\ubd80\", \"\\uc81c\\ucd9c\", \"\\uc8fc\\uc7a5\", \"\\ud574\\uc678\", \"\\ud575\\uc2ec\", \"\\ud68c\\uc0ac\"], \"Total\": [17.0, 11.0, 12.0, 8.0, 12.0, 7.0, 7.0, 6.0, 6.0, 7.0, 7.0, 5.0, 5.0, 4.0, 6.0, 4.0, 6.0, 4.0, 4.0, 4.0, 4.0, 4.0, 5.0, 5.0, 3.0, 3.0, 3.0, 3.0, 3.0, 3.0, 2.2348748483965473, 2.2348748483965473, 8.939499393586189, 4.4697496967930945, 3.09068901923395, 2.0438646983352036, 2.0438646983352036, 12.695323741051457, 2.2339100991525958, 2.2339100991525958, 2.3678761143838205, 6.867011219081197, 17.356037237705326, 2.5008773803710938, 5.146872716072278, 6.019772665841239, 11.128445943196613, 1.7116283416748048, 4.63213637068465, 5.804425499295495, 4.4658906998172885, 6.698836049725933, 12.758142528018436, 2.77928182241079, 7.7696386483999405, 4.769333975655692, 2.77928182241079, 5.268761268028847, 7.702327537536621, 2.384666987827846, 2.2329453499086442, 3.3494180248629664, 7.90314190204327, 2.433662991961534, 2.2329453499086442, 4.4658906998172885, 3.3494180248629664, 4.4658906998172885, 3.3494180248629664, 6.698836049725933, 4.4658906998172885, 1.9722868457917246, 1.9842745368395884, 2.2339100991525958, 2.2339100991525958, 2.433662991961534, 17.356037237705326, 2.5008773803710938, 5.146872716072278, 6.019772665841239, 11.128445943196613, 1.7116283416748048, 6.867011219081197, 4.4697496967930945, 4.63213637068465, 5.804425499295495, 12.758142528018436, 2.77928182241079, 7.7696386483999405, 2.0438646983352036, 4.769333975655692, 2.77928182241079, 5.268761268028847, 7.702327537536621, 8.939499393586189, 7.90314190204327, 2.2348748483965473, 2.384666987827846, 12.695323741051457, 1.8528545482738599, 2.77928182241079, 2.77928182241079, 2.77928182241079, 4.63213637068465, 12.758142528018436, 6.867011219081197, 1.7213162700795452, 2.0438646983352036, 2.0438646983352036, 5.804425499295495, 17.356037237705326, 2.5008773803710938, 5.146872716072278, 6.019772665841239, 11.128445943196613, 1.7116283416748048, 4.4697496967930945, 4.4658906998172885, 6.698836049725933, 7.7696386483999405, 4.769333975655692, 5.268761268028847, 7.702327537536621, 2.384666987827846, 3.3494180248629664, 8.939499393586189, 7.90314190204327, 2.2348748483965473, 2.433662991961534, 5.0017547607421875, 2.2329453499086442, 1.7356037237705328, 6.585951585036058, 3.951570951021635, 7.90314190204327, 5.268761268028847, 5.804425499295495, 7.7696386483999405, 2.433662991961534, 17.356037237705326, 2.5008773803710938, 5.146872716072278, 6.019772665841239, 11.128445943196613, 1.7116283416748048, 6.867011219081197, 4.4697496967930945, 4.63213637068465, 4.4658906998172885, 6.698836049725933, 12.758142528018436, 2.77928182241079, 2.0438646983352036, 4.769333975655692, 2.77928182241079, 7.702327537536621, 2.384666987827846, 3.3494180248629664, 8.939499393586189, 2.2348748483965473, 5.0017547607421875, 12.695323741051457, 2.2329453499086442, 2.1062528610229494, 3.4232566833496096, 7.702327537536621, 1.7116283416748048, 5.146872716072278, 7.635762405395508, 12.695323741051457, 1.9722868457917246, 2.1062528610229494, 2.1062528610229494, 3.09068901923395, 12.758142528018436, 17.356037237705326, 2.5008773803710938, 6.019772665841239, 11.128445943196613, 6.867011219081197, 4.4697496967930945, 4.63213637068465, 5.804425499295495, 4.4658906998172885, 6.698836049725933, 2.77928182241079, 7.7696386483999405, 2.0438646983352036, 4.769333975655692, 2.77928182241079, 5.268761268028847, 2.384666987827846, 3.3494180248629664, 8.939499393586189, 5.0017547607421875, 2.433662991961534, 2.2348748483965473, 7.90314190204327, 2.6034055856557994, 2.6034055856557994, 4.339009309426332, 2.6034055856557994, 1.7356037237705328, 17.356037237705326, 1.9842745368395884, 3.36867924225636, 5.146872716072278, 2.5008773803710938, 6.019772665841239, 11.128445943196613, 1.7116283416748048, 6.867011219081197, 4.4697496967930945, 4.63213637068465, 5.804425499295495, 4.4658906998172885, 6.698836049725933, 12.758142528018436, 2.77928182241079, 7.7696386483999405, 2.0438646983352036, 4.769333975655692, 2.77928182241079, 5.268761268028847, 7.702327537536621, 2.384666987827846, 3.3494180248629664, 8.939499393586189, 5.0017547607421875, 2.433662991961534, 2.2348748483965473, 7.90314190204327, 12.695323741051457, 3.7513160705566406, 3.7513160705566406, 2.5008773803710938, 5.0017547607421875, 2.5008773803710938, 3.36867924225636, 2.045327686128162, 4.090655372256324, 2.1062528610229494, 2.1062528610229494, 2.3678761143838205, 7.635762405395508, 7.7696386483999405, 6.019772665841239, 17.356037237705326, 5.146872716072278, 11.128445943196613, 1.7116283416748048, 6.867011219081197, 4.4697496967930945, 4.63213637068465, 5.804425499295495, 4.4658906998172885, 6.698836049725933, 12.758142528018436, 2.77928182241079, 2.0438646983352036, 4.769333975655692, 2.77928182241079, 5.268761268028847, 7.90314190204327, 8.939499393586189, 3.3494180248629664, 2.384666987827846, 7.702327537536621, 2.2348748483965473, 1.5897779918852306, 2.384666987827846, 3.1795559837704612, 2.384666987827846, 4.769333975655692, 11.128445943196613, 6.019772665841239, 1.7213162700795452, 2.045327686128162, 4.090655372256324, 17.356037237705326, 2.5008773803710938, 5.146872716072278, 1.7116283416748048, 6.867011219081197, 4.4697496967930945, 4.63213637068465, 5.804425499295495, 4.4658906998172885, 6.698836049725933, 12.758142528018436, 2.77928182241079, 7.7696386483999405, 2.0438646983352036, 2.77928182241079, 5.268761268028847, 7.702327537536621, 3.3494180248629664, 8.939499393586189, 7.90314190204327, 2.2348748483965473, 2.433662991961534, 5.0017547607421875, 1.7356037237705328], \"loglift\": [30.0, 29.0, 28.0, 27.0, 26.0, 25.0, 24.0, 23.0, 22.0, 21.0, 20.0, 19.0, 18.0, 17.0, 16.0, 15.0, 14.0, 13.0, 12.0, 11.0, 10.0, 9.0, 8.0, 7.0, 6.0, 5.0, 4.0, 3.0, 2.0, 1.0, 2.0644, 2.0644, 2.0644, 2.0644, 1.7402, 1.4606, 1.4606, 1.426, 1.3717, 1.3717, 1.3135, 0.9419, -Infinity, -Infinity, -Infinity, -Infinity, -Infinity, -Infinity, -Infinity, -Infinity, -Infinity, -Infinity, -Infinity, -Infinity, -Infinity, -Infinity, -Infinity, -Infinity, -Infinity, -Infinity, -Infinity, -Infinity, -Infinity, -Infinity, 2.0653, 2.0653, 2.0653, 2.0653, 2.0653, 2.0653, 2.0653, 1.4963, 1.4902, 1.3717, 1.3717, 1.2861, -Infinity, -Infinity, -Infinity, -Infinity, -Infinity, -Infinity, -Infinity, -Infinity, -Infinity, -Infinity, -Infinity, -Infinity, -Infinity, -Infinity, -Infinity, -Infinity, -Infinity, -Infinity, -Infinity, -Infinity, -Infinity, -Infinity, -Infinity, 2.075, 2.075, 2.075, 2.075, 2.075, 1.8503, 1.6813, 1.4555, 1.2837, 1.2837, 0.9331, -Infinity, -Infinity, -Infinity, -Infinity, -Infinity, -Infinity, -Infinity, -Infinity, -Infinity, -Infinity, -Infinity, -Infinity, -Infinity, -Infinity, -Infinity, -Infinity, -Infinity, -Infinity, -Infinity, -Infinity, -Infinity, -Infinity, 2.0759, 2.0759, 2.0759, 2.0759, 1.6914, 1.6874, 1.462, -Infinity, -Infinity, -Infinity, -Infinity, -Infinity, -Infinity, -Infinity, -Infinity, -Infinity, -Infinity, -Infinity, -Infinity, -Infinity, -Infinity, -Infinity, -Infinity, -Infinity, -Infinity, -Infinity, -Infinity, -Infinity, -Infinity, -Infinity, -Infinity, -Infinity, 2.0763, 2.0763, 2.0763, 1.8916, 1.6795, 1.3253, 1.2414, 1.1757, 1.1757, 0.7922, 0.473, -Infinity, -Infinity, -Infinity, -Infinity, -Infinity, -Infinity, -Infinity, -Infinity, -Infinity, -Infinity, -Infinity, -Infinity, -Infinity, -Infinity, -Infinity, -Infinity, -Infinity, -Infinity, -Infinity, -Infinity, -Infinity, -Infinity, -Infinity, 2.0877, 2.0877, 2.0877, 2.0877, 2.0877, 2.0877, 1.2607, 0.7314, 0.3075, -Infinity, -Infinity, -Infinity, -Infinity, -Infinity, -Infinity, -Infinity, -Infinity, -Infinity, -Infinity, -Infinity, -Infinity, -Infinity, -Infinity, -Infinity, -Infinity, -Infinity, -Infinity, -Infinity, -Infinity, -Infinity, -Infinity, -Infinity, -Infinity, -Infinity, -Infinity, 2.0901, 2.0901, 2.0901, 2.0901, 2.0901, 1.7923, 1.5981, 1.5981, 1.5687, 1.5687, 1.4516, 0.9739, 0.9566, 0.5186, -Infinity, -Infinity, -Infinity, -Infinity, -Infinity, -Infinity, -Infinity, -Infinity, -Infinity, -Infinity, -Infinity, -Infinity, -Infinity, -Infinity, -Infinity, -Infinity, -Infinity, -Infinity, -Infinity, -Infinity, -Infinity, -Infinity, 2.1014, 2.1014, 2.1014, 2.1014, 2.1014, 2.1014, 1.8685, 1.3287, 1.1562, 1.1562, -Infinity, -Infinity, -Infinity, -Infinity, -Infinity, -Infinity, -Infinity, -Infinity, -Infinity, -Infinity, -Infinity, -Infinity, -Infinity, -Infinity, -Infinity, -Infinity, -Infinity, -Infinity, -Infinity, -Infinity, -Infinity, -Infinity, -Infinity, -Infinity], \"logprob\": [30.0, 29.0, 28.0, 27.0, 26.0, 25.0, 24.0, 23.0, 22.0, 21.0, 20.0, 19.0, 18.0, 17.0, 16.0, 15.0, 14.0, 13.0, 12.0, 11.0, 10.0, 9.0, 8.0, 7.0, 6.0, 5.0, 4.0, 3.0, 2.0, 1.0, -2.7408, -2.7408, -1.3545, -2.0477, -2.7408, -3.434, -3.434, -1.6422, -3.434, -3.434, -3.434, -2.7408, -Infinity, -Infinity, -Infinity, -Infinity, -Infinity, -Infinity, -Infinity, -Infinity, -Infinity, -Infinity, -Infinity, -Infinity, -Infinity, -Infinity, -Infinity, -Infinity, -Infinity, -Infinity, -Infinity, -Infinity, -Infinity, -Infinity, -2.7408, -2.0477, -2.3354, -2.0477, -2.3354, -1.6422, -2.0477, -3.434, -3.434, -3.434, -3.434, -3.434, -Infinity, -Infinity, -Infinity, -Infinity, -Infinity, -Infinity, -Infinity, -Infinity, -Infinity, -Infinity, -Infinity, -Infinity, -Infinity, -Infinity, -Infinity, -Infinity, -Infinity, -Infinity, -Infinity, -Infinity, -Infinity, -Infinity, -Infinity, -2.9178, -2.5123, -2.5123, -2.5123, -2.0015, -1.213, -2.0015, -3.6109, -3.6109, -3.6109, -2.9178, -Infinity, -Infinity, -Infinity, -Infinity, -Infinity, -Infinity, -Infinity, -Infinity, -Infinity, -Infinity, -Infinity, -Infinity, -Infinity, -Infinity, -Infinity, -Infinity, -Infinity, -Infinity, -Infinity, -Infinity, -Infinity, -Infinity, -1.6487, -2.1595, -1.4663, -1.8718, -2.1595, -1.8718, -3.2581, -Infinity, -Infinity, -Infinity, -Infinity, -Infinity, -Infinity, -Infinity, -Infinity, -Infinity, -Infinity, -Infinity, -Infinity, -Infinity, -Infinity, -Infinity, -Infinity, -Infinity, -Infinity, -Infinity, -Infinity, -Infinity, -Infinity, -Infinity, -Infinity, -Infinity, -2.3026, -1.4917, -2.9957, -2.0794, -1.8971, -1.743, -3.6889, -3.6889, -3.6889, -3.6889, -2.5903, -Infinity, -Infinity, -Infinity, -Infinity, -Infinity, -Infinity, -Infinity, -Infinity, -Infinity, -Infinity, -Infinity, -Infinity, -Infinity, -Infinity, -Infinity, -Infinity, -Infinity, -Infinity, -Infinity, -Infinity, -Infinity, -Infinity, -Infinity, -2.5649, -2.5649, -2.0541, -2.5649, -2.9704, -0.6678, -3.6636, -3.6636, -3.6636, -Infinity, -Infinity, -Infinity, -Infinity, -Infinity, -Infinity, -Infinity, -Infinity, -Infinity, -Infinity, -Infinity, -Infinity, -Infinity, -Infinity, -Infinity, -Infinity, -Infinity, -Infinity, -Infinity, -Infinity, -Infinity, -Infinity, -Infinity, -Infinity, -Infinity, -Infinity, -2.1972, -2.1972, -2.6027, -1.9095, -2.6027, -2.6027, -3.2958, -2.6027, -3.2958, -3.2958, -3.2958, -2.6027, -2.6027, -3.2958, -Infinity, -Infinity, -Infinity, -Infinity, -Infinity, -Infinity, -Infinity, -Infinity, -Infinity, -Infinity, -Infinity, -Infinity, -Infinity, -Infinity, -Infinity, -Infinity, -Infinity, -Infinity, -Infinity, -Infinity, -Infinity, -Infinity, -3.0445, -2.6391, -2.3514, -2.6391, -1.9459, -1.0986, -1.9459, -3.7377, -3.7377, -3.0445, -Infinity, -Infinity, -Infinity, -Infinity, -Infinity, -Infinity, -Infinity, -Infinity, -Infinity, -Infinity, -Infinity, -Infinity, -Infinity, -Infinity, -Infinity, -Infinity, -Infinity, -Infinity, -Infinity, -Infinity, -Infinity, -Infinity, -Infinity, -Infinity]}, \"token.table\": {\"Topic\": [1, 7, 6, 7, 3, 5, 7, 4, 3, 4, 3, 6, 6, 1, 2, 7, 8, 2, 2, 6, 7, 8, 2, 2, 5, 6, 6, 7, 7, 8, 5, 7, 5, 2, 1, 7, 3, 5, 3, 6, 4, 7, 6, 1, 3, 8, 3, 2, 7, 4, 8, 5, 5, 1, 3, 1, 3, 8, 2, 1, 5, 3, 8, 3, 1, 4, 1, 1, 2, 8, 2, 2, 5, 4, 5, 7, 7, 8, 1, 8, 2, 4, 7, 1, 5, 6], \"Freq\": [0.8949046974307924, 1.0662924490408132, 1.152336776309212, 1.0662924490408132, 1.0794155439039845, 0.4747768031585378, 0.4747768031585378, 1.0628684267744544, 0.344564677459078, 0.689129354918156, 1.0794155439039845, 1.152336776309212, 0.9794862598628303, 0.44764558805626814, 0.44764558805626814, 1.1995790051709148, 0.943527969097894, 0.8956779887523111, 0.5039625220372626, 0.5039625220372626, 0.7333788175720263, 0.48891921171468417, 0.8956779887523111, 1.044957653544363, 0.7771709581060927, 0.19429273952652318, 0.2968522462620081, 0.8905567387860245, 0.1661192299959145, 0.8305961499795724, 0.6548134599456563, 0.3928880759673938, 0.876358473085501, 0.8956779887523111, 0.4223193915954613, 0.4223193915954613, 0.7838131591678633, 0.235143947750359, 1.0794155439039845, 0.9218694210473698, 0.6435305715317516, 0.386118342919051, 1.152336776309212, 0.48926917756079136, 0.48926917756079136, 1.0483644101087712, 1.0794155439039845, 0.8956779887523111, 1.1995790051709148, 0.9489896667629057, 0.9884578723882701, 1.0386470792124456, 1.1684779641140013, 0.2912475218392899, 0.7281188045982249, 0.48926917756079136, 0.48926917756079136, 0.838691528087017, 0.8956779887523111, 0.6471048971778193, 0.32355244858890964, 0.580950762728681, 0.580950762728681, 1.0794155439039845, 1.0067677846096414, 1.0122556445470994, 0.8949046974307924, 0.44764558805626814, 0.44764558805626814, 1.2580372921305254, 0.8956779887523111, 0.5070256398726704, 0.5070256398726704, 1.0122556445470994, 0.4747768031585378, 0.4747768031585378, 0.48891921171468417, 0.48891921171468417, 0.8949046974307924, 0.838691528087017, 0.4109032365216679, 0.4109032365216679, 0.9996491709757623, 0.5513841271621045, 0.47261496613894666, 1.152336776309212], \"Term\": [\"\\uac00\\ub2a5\\uc131\", \"\\uac80\\ud1a0\", \"\\uac83\", \"\\uacbd\\uc6b0\", \"\\uace0\", \"\\uacf5\\uac1c\", \"\\uacf5\\uac1c\", \"\\uacfc\\uc815\", \"\\uad00\\ub828\", \"\\uad00\\ub828\", \"\\uad00\\ub9ac\", \"\\uad6d\\uac00\", \"\\uae30\\uc220\", \"\\ub300\\ub9ac\\uc778\", \"\\ub300\\ub9ac\\uc778\", \"\\ub300\\ub9bd\", \"\\ub4f1\", \"\\ub85c\\ud38c\", \"\\ub97c\", \"\\ub97c\", \"\\uba70\", \"\\uba70\", \"\\uba85\\ub839\", \"\\ubbf8\\uad6d\", \"\\ubc30\\ud130\\ub9ac\", \"\\ubc30\\ud130\\ub9ac\", \"\\ubc95\", \"\\ubc95\", \"\\ubc95\\uc6d0\", \"\\ubc95\\uc6d0\", \"\\ubcf4\\ud638\", \"\\ubcf4\\ud638\", \"\\ube44\\ubc00\", \"\\uc0b0\\uc5c5\", \"\\uc0c1\\ud669\", \"\\uc0c1\\ud669\", \"\\uc18c\\uc1a1\", \"\\uc18c\\uc1a1\", \"\\uc218\", \"\\uc218\\ucd9c\", \"\\uc2b9\\uc778\", \"\\uc2b9\\uc778\", \"\\uc2e0\\uace0\", \"\\uc5ec\\ubd80\", \"\\uc5ec\\ubd80\", \"\\uc601\\uc5c5\\ube44\\ubc00\", \"\\uc678\\ubd80\", \"\\uc704\\ubc18\", \"\\uc704\\uc6d0\\ud68c\", \"\\uc704\\ud574\", \"\\uc720\\ucd9c\", \"\\uc774\\ub178\\ubca0\\uc774\\uc158\", \"\\uc774\\ubc88\", \"\\uc790\\ub8cc\", \"\\uc790\\ub8cc\", \"\\uc790\\uc6d0\\ubd80\", \"\\uc790\\uc6d0\\ubd80\", \"\\uc804\\uae30\\ucc28\", \"\\uc804\\ud600\", \"\\uc808\\ucc28\", \"\\uc808\\ucc28\", \"\\uc810\", \"\\uc810\", \"\\uc815\\ubcf4\", \"\\uc815\\ubd80\", \"\\uc81c\\ucd9c\", \"\\uc8fc\\uc7a5\", \"\\uc911\", \"\\uc911\", \"\\uc99d\\uac70\", \"\\uc99d\\uac70\\uac1c\\uc2dc\", \"\\uc9c0\\ubc29\\ubc95\\uc6d0\", \"\\uc9c0\\ubc29\\ubc95\\uc6d0\", \"\\uc9c4\\ud589\", \"\\ud1b5\\uc0c1\", \"\\ud1b5\\uc0c1\", \"\\ud1b5\\ud574\", \"\\ud1b5\\ud574\", \"\\ud55c\\uad6d\", \"\\ud574\\ub2f9\", \"\\ud574\\uc678\", \"\\ud574\\uc678\", \"\\ud575\\uc2ec\", \"\\ud654\\ud559\", \"\\ud654\\ud559\", \"\\ud68c\\uc0ac\"]}, \"R\": 30, \"lambda.step\": 0.01, \"plot.opts\": {\"xlab\": \"PC1\", \"ylab\": \"PC2\"}, \"topic.order\": [2, 4, 1, 5, 6, 3, 8, 7]};\n",
       "\n",
       "function LDAvis_load_lib(url, callback){\n",
       "  var s = document.createElement('script');\n",
       "  s.src = url;\n",
       "  s.async = true;\n",
       "  s.onreadystatechange = s.onload = callback;\n",
       "  s.onerror = function(){console.warn(\"failed to load library \" + url);};\n",
       "  document.getElementsByTagName(\"head\")[0].appendChild(s);\n",
       "}\n",
       "\n",
       "if(typeof(LDAvis) !== \"undefined\"){\n",
       "   // already loaded: just create the visualization\n",
       "   !function(LDAvis){\n",
       "       new LDAvis(\"#\" + \"ldavis_el3249219409357283282655034430\", ldavis_el3249219409357283282655034430_data);\n",
       "   }(LDAvis);\n",
       "}else if(typeof define === \"function\" && define.amd){\n",
       "   // require.js is available: use it to load d3/LDAvis\n",
       "   require.config({paths: {d3: \"https://cdnjs.cloudflare.com/ajax/libs/d3/3.5.5/d3.min\"}});\n",
       "   require([\"d3\"], function(d3){\n",
       "      window.d3 = d3;\n",
       "      LDAvis_load_lib(\"https://cdn.rawgit.com/bmabey/pyLDAvis/files/ldavis.v1.0.0.js\", function(){\n",
       "        new LDAvis(\"#\" + \"ldavis_el3249219409357283282655034430\", ldavis_el3249219409357283282655034430_data);\n",
       "      });\n",
       "    });\n",
       "}else{\n",
       "    // require.js not available: dynamically load d3 & LDAvis\n",
       "    LDAvis_load_lib(\"https://cdnjs.cloudflare.com/ajax/libs/d3/3.5.5/d3.min.js\", function(){\n",
       "         LDAvis_load_lib(\"https://cdn.rawgit.com/bmabey/pyLDAvis/files/ldavis.v1.0.0.js\", function(){\n",
       "                 new LDAvis(\"#\" + \"ldavis_el3249219409357283282655034430\", ldavis_el3249219409357283282655034430_data);\n",
       "            })\n",
       "         });\n",
       "}\n",
       "</script>"
      ],
      "text/plain": [
       "PreparedData(topic_coordinates=              x         y  topics  cluster       Freq\n",
       "topic                                                \n",
       "1      0.294569  0.048804       1        1  12.688849\n",
       "3     -0.004553 -0.335876       2        1  12.677895\n",
       "0      0.210693  0.054382       3        1  12.555975\n",
       "4     -0.140863 -0.098099       4        1  12.544669\n",
       "5      0.207023  0.143949       5        1  12.539402\n",
       "2     -0.099831 -0.208761       6        1  12.397169\n",
       "7     -0.203502  0.207079       7        1  12.366976\n",
       "6     -0.263536  0.188522       8        1  12.229061, topic_info=   Category  Freq Term      Total  loglift  logprob\n",
       "0   Default  17.0   기술  17.000000     30.0     30.0\n",
       "4   Default  11.0   유출  11.000000     29.0     29.0\n",
       "12  Default  12.0   소송  12.000000     28.0     28.0\n",
       "22  Default   8.0   정부   8.000000     27.0     27.0\n",
       "27  Default  12.0   화학  12.000000     26.0     26.0\n",
       "..      ...   ...  ...        ...      ...      ...\n",
       "23   Topic8   0.0   제출   7.903142     -inf     -inf\n",
       "24   Topic8   0.0   주장   2.234875     -inf     -inf\n",
       "25   Topic8   0.0   해외   2.433663     -inf     -inf\n",
       "26   Topic8   0.0   핵심   5.001755     -inf     -inf\n",
       "28   Topic8   0.0   회사   1.735604     -inf     -inf\n",
       "\n",
       "[303 rows x 6 columns], token_table=      Topic      Freq Term\n",
       "term                      \n",
       "7         1  0.894905  가능성\n",
       "38        7  1.066292   검토\n",
       "51        6  1.152337    것\n",
       "52        7  1.066292   경우\n",
       "8         3  1.079416    고\n",
       "...     ...       ...  ...\n",
       "25        4  0.410903   해외\n",
       "26        7  0.999649   핵심\n",
       "27        1  0.551384   화학\n",
       "27        5  0.472615   화학\n",
       "28        6  1.152337   회사\n",
       "\n",
       "[86 rows x 3 columns], R=30, lambda_step=0.01, plot_opts={'xlab': 'PC1', 'ylab': 'PC2'}, topic_order=[2, 4, 1, 5, 6, 3, 8, 7])"
      ]
     },
     "execution_count": 81,
     "metadata": {},
     "output_type": "execute_result"
    }
   ],
   "source": [
    "from gensim.models import LdaModel\n",
    "\n",
    "def mallet_to_lda(optimal_model):\n",
    "    model_gensim = LdaModel(\n",
    "        id2word=optimal_model.id2word, num_topics=optimal_model.num_topics,\n",
    "        alpha=optimal_model.alpha, eta=0, iterations=1000,\n",
    "        gamma_threshold=0.001,\n",
    "        dtype=np.float32\n",
    "    )\n",
    "    model_gensim.sync_state()\n",
    "    model_gensim.state.sstats = optimal_model.wordtopics\n",
    "    return model_gensim\n",
    "model = mallet_to_lda(optimal_model)\n",
    "\n",
    "import pyLDAvis\n",
    "import pyLDAvis.gensim\n",
    "\n",
    "pyLDAvis.enable_notebook()\n",
    "vis = pyLDAvis.gensim.prepare(model, corpus, id2word)\n",
    "vis"
   ]
  },
  {
   "cell_type": "code",
   "execution_count": null,
   "metadata": {},
   "outputs": [],
   "source": []
  }
 ],
 "metadata": {
  "kernelspec": {
   "display_name": "Python 3",
   "language": "python",
   "name": "python3"
  },
  "language_info": {
   "codemirror_mode": {
    "name": "ipython",
    "version": 3
   },
   "file_extension": ".py",
   "mimetype": "text/x-python",
   "name": "python",
   "nbconvert_exporter": "python",
   "pygments_lexer": "ipython3",
   "version": "3.7.4"
  }
 },
 "nbformat": 4,
 "nbformat_minor": 2
}
